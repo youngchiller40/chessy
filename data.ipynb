{
 "cells": [
  {
   "cell_type": "code",
   "execution_count": 1,
   "metadata": {},
   "outputs": [
    {
     "name": "stderr",
     "output_type": "stream",
     "text": [
      "C:\\Users\\AWright\\AppData\\Roaming\\Python\\Python312\\site-packages\\tqdm\\auto.py:21: TqdmWarning: IProgress not found. Please update jupyter and ipywidgets. See https://ipywidgets.readthedocs.io/en/stable/user_install.html\n",
      "  from .autonotebook import tqdm as notebook_tqdm\n"
     ]
    }
   ],
   "source": [
    "import huggingface_hub\n",
    "import datasets"
   ]
  },
  {
   "cell_type": "code",
   "execution_count": 1,
   "metadata": {},
   "outputs": [
    {
     "name": "stderr",
     "output_type": "stream",
     "text": [
      "C:\\Users\\AWright\\AppData\\Roaming\\Python\\Python312\\site-packages\\tqdm\\auto.py:21: TqdmWarning: IProgress not found. Please update jupyter and ipywidgets. See https://ipywidgets.readthedocs.io/en/stable/user_install.html\n",
      "  from .autonotebook import tqdm as notebook_tqdm\n"
     ]
    }
   ],
   "source": [
    "from datasets import load_dataset\n",
    "\n",
    "# Load using streaming mode\n",
    "dataset = load_dataset(\"Lichess/standard-chess-games\", split=\"train\", streaming=True)\n",
    "\n",
    "# Get a small sample of 10 games\n",
    "sample = []\n",
    "for i, row in enumerate(dataset):\n",
    "    sample.append(row)\n",
    "    if i == 1:\n",
    "        break\n",
    "\n",
    "# # Print results\n",
    "# for i, game in enumerate(sample):\n",
    "#     print(f\"\\n--- Game {i+1} ---\")\n",
    "#     print(\"White:\", game['White'], \"vs Black:\", game['Black'])\n",
    "#     print(\"Result:\", game['Result'])\n",
    "#     print(\"Moves:\", game['Moves'][:100], \"...\")\n"
   ]
  },
  {
   "cell_type": "code",
   "execution_count": 5,
   "metadata": {},
   "outputs": [
    {
     "data": {
      "text/plain": [
       "{'Event': 'Rated Classical game',\n",
       " 'Site': 'https://lichess.org/j1dkb5dw',\n",
       " 'White': 'BFG9k',\n",
       " 'Black': 'mamalak',\n",
       " 'Result': '1-0',\n",
       " 'WhiteTitle': None,\n",
       " 'BlackTitle': None,\n",
       " 'WhiteElo': 1639,\n",
       " 'BlackElo': 1403,\n",
       " 'WhiteRatingDiff': 5,\n",
       " 'BlackRatingDiff': -8,\n",
       " 'UTCDate': datetime.date(2012, 12, 31),\n",
       " 'UTCTime': datetime.time(23, 1, 3),\n",
       " 'ECO': 'C00',\n",
       " 'Opening': 'French Defense: Normal Variation',\n",
       " 'Termination': 'Normal',\n",
       " 'TimeControl': '600+8',\n",
       " 'movetext': '1. e4 e6 2. d4 b6 3. a3 Bb7 4. Nc3 Nh6 5. Bxh6 gxh6 6. Be2 Qg5 7. Bg4 h5 8. Nf3 Qg6 9. Nh4 Qg5 10. Bxh5 Qxh4 11. Qf3 Kd8 12. Qxf7 Nc6 13. Qe8# 1-0'}"
      ]
     },
     "execution_count": 5,
     "metadata": {},
     "output_type": "execute_result"
    }
   ],
   "source": [
    "sample[0]"
   ]
  },
  {
   "cell_type": "code",
   "execution_count": null,
   "metadata": {},
   "outputs": [],
   "source": []
  }
 ],
 "metadata": {
  "kernelspec": {
   "display_name": "Python 3",
   "language": "python",
   "name": "python3"
  },
  "language_info": {
   "codemirror_mode": {
    "name": "ipython",
    "version": 3
   },
   "file_extension": ".py",
   "mimetype": "text/x-python",
   "name": "python",
   "nbconvert_exporter": "python",
   "pygments_lexer": "ipython3",
   "version": "3.12.2"
  }
 },
 "nbformat": 4,
 "nbformat_minor": 2
}
