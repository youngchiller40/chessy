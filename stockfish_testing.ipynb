{
 "cells": [
  {
   "cell_type": "code",
   "execution_count": 3,
   "metadata": {},
   "outputs": [],
   "source": [
    "stockfish_path = r\"C:\\Users\\AWright\\Engines\\stockfish\\stockfish-windows-x86-64-avx2.exe\""
   ]
  },
  {
   "cell_type": "code",
   "execution_count": 8,
   "metadata": {},
   "outputs": [
    {
     "name": "stdout",
     "output_type": "stream",
     "text": [
      "e2e4\n"
     ]
    }
   ],
   "source": [
    "from stockfish import Stockfish\n",
    "\n",
    "stockfish = Stockfish(\n",
    "    path=stockfish_path,\n",
    "    depth=21,\n",
    "    parameters={\"Threads\": 4, \"Hash\": 512}\n",
    ")\n",
    "print(stockfish.get_best_move())\n"
   ]
  },
  {
   "cell_type": "code",
   "execution_count": null,
   "metadata": {},
   "outputs": [],
   "source": []
  }
 ],
 "metadata": {
  "kernelspec": {
   "display_name": "Python 3",
   "language": "python",
   "name": "python3"
  },
  "language_info": {
   "codemirror_mode": {
    "name": "ipython",
    "version": 3
   },
   "file_extension": ".py",
   "mimetype": "text/x-python",
   "name": "python",
   "nbconvert_exporter": "python",
   "pygments_lexer": "ipython3",
   "version": "3.12.2"
  }
 },
 "nbformat": 4,
 "nbformat_minor": 2
}
